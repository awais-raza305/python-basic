{
  "nbformat": 4,
  "nbformat_minor": 0,
  "metadata": {
    "colab": {
      "provenance": []
    },
    "kernelspec": {
      "name": "python3",
      "display_name": "Python 3"
    },
    "language_info": {
      "name": "python"
    }
  },
  "cells": [
    {
      "cell_type": "markdown",
      "source": [
        "Python Basic"
      ],
      "metadata": {
        "id": "OMmeuXaKE510"
      }
    },
    {
      "cell_type": "markdown",
      "source": [
        "Theory:\n",
        "Q1.What is Python, and why is it popular?\n",
        "\n",
        "Ans.Python is a high-level, interpreted programming language known for its simplicity and readability. It was created by Guido van Rossum and first released in 1991. Python emphasizes ease of use and accessibility, making it an excellent choice for both beginners and experienced developers.\n",
        "\n",
        "Python is popular beccause: Easy-to-learn, Easy-to-read, A broad standard, library,Interactive Mode,Portable,Extendable,etc.\n",
        "\n",
        "Q2.What is an interpreter in Python?\n",
        "\n",
        "Ans.In Python, an interpreter is a program that reads and executes the Python code line by line. It translates the high-level Python code into machine code and executes it directly, instead of compiling it into a separate binary file first.\n",
        "\n",
        "Q3.What are pre-defined keywords in Python?\n",
        "\n",
        "Ans.Python Keywords are special reserved words which convey a special meaning to the compiler/interpreter. Each keyword have a special meaning and a specific operation. These keywords can't be used as variable.\n",
        "\n",
        "Following is the List of Python Keywords:\n",
        "\n",
        "‘False’, ‘None’, ‘True’, ‘and’, ‘as’, ‘assert’, ‘async’, ‘await’, ‘break’, ‘class’, ‘continue’, ‘def’, ‘del’, ‘elif’, ‘else’, ‘except’, ‘finally’, ‘for’, ‘from’, ‘global’, ‘if’, ‘import’, ‘in’, ‘is’, ‘lambda’, ‘nonlocal’, ‘not’, ‘or’, ‘pass’, ‘raise’, ‘return’, ‘try’, ‘while’, ‘with’, ‘yield’.\n",
        "\n",
        "Q4.Can keywords be used as variable names?\n",
        "\n",
        "Ans.No, keywords cannot be used as variable names in Python.\n",
        "\n",
        "Q5.What is mutability in Python?\n",
        "\n",
        "Ans.mutability refers to the ability of an object to be changed after it has been created. Depending on their type, objects in Python can either be mutable or immutable.\n",
        "\n",
        "Q6.Why are lists mutable, but tuples are immutable?\n",
        "\n",
        "Ans.list are mutable, but tubles are immutable because: Lists provide flexibility at the cost of potential errors from unintended modifications and slightly higher memory usage.\n",
        "Tuples provide safety and efficiency at the cost of being less versatile in scenarios requiring modification.\n",
        "\n",
        "Q7.What is the difference between “==” and “is” operators in Python?\n",
        "\n",
        "Ans. Difference between \"==\" and \"is\" are:\n",
        "Purpose: \"==\"Compares values for equality. \"is\"Compares object identity.\n",
        "\n",
        "Checks: \"==\" Content equivalence.\t\"is\" Memory address equivalence.\n",
        "\n",
        "Applicability:\t\"==\"Used to compare data types, strings, numbers, etc.\t\"is\"Used to compare if two variables refer to the same object.\n",
        "\n",
        "Customizability:\t\"==\"Can be overridden by classes using __eq__.\t\"is\"Cannot be overridden.\n",
        "\n",
        "Q8. What are logical operators in Python?\n",
        "\n",
        "Ans. Logical operators in Python are used to combine conditional statements or expressions and return a Boolean result (True or False). These operators are:\"and\", \"or\" and \"not\".\n",
        "\n",
        "Q9. What is type casting in Python?\n",
        "\n",
        "Ans. Type casting in Python is the process of converting one data type to another. Python provides built-in functions for type casting, which allow developers to explicitly convert a value from one type to another when needed.\n",
        "\n",
        "Q10. What is the difference between implicit and explicit type casting?\n",
        "\n",
        "Ans. The difference between implicit and explicit type casting lies in how and when the data type conversion occurs.\n",
        "\n",
        "Implicit Type Casting\n",
        "\n",
        "Definition: The conversion of one data type to another is performed automatically by Python without any explicit request from the programmer.\n",
        "\n",
        "Purpose: It happens when there is no risk of data loss, and the conversion is logical and safe.\n",
        "\n",
        "Control: Performed by the interpreter.\n",
        "\n",
        "Explicit Type Casting\n",
        "\n",
        "Definition: The conversion of one data type to another is performed manually by the programmer using built-in type conversion functions.\n",
        "\n",
        "Purpose: Used when implicit casting is not performed or when a specific conversion is required.\n",
        "\n",
        "Control: Performed by the programmer.\n",
        "\n",
        "Q11.  What is the purpose of conditional statements in Python?\n",
        "\n",
        "Ans. The purpose of conditional statements in Python is to control the flow of a program by executing specific blocks of code based on whether certain conditions are met. They allow programs to make decisions and respond dynamically to different inputs or situations.\n",
        "\n",
        "Q12. How does the elif statement work?\n",
        "\n",
        "Ans. The elif statement in Python is short for \"else if\" and is used to add additional conditional checks to an if statement.\n",
        "\n",
        "How It Works\n",
        "\n",
        "The program starts by evaluating the if condition.\n",
        "\n",
        "If the if condition is True, its block of code executes, and the rest of the elif and else blocks are skipped.\n",
        "\n",
        "If the if condition is False, the program evaluates the first elif condition:\n",
        "If the elif condition is True, its block of code executes, and the remaining elif and else blocks are skipped.\n",
        "If the elif condition is False, the program moves to the next elif or else block.\n",
        "\n",
        "The process continues until a True condition is found or the else block is executed (if present).\n",
        "\n",
        "Q13. What is the difference between for and while loops?\n",
        "\n",
        "Ans. The main difference between for loops and while loops in Python lies in how they iterate and when you would use each. \"for\" loops are ideal for iterating over sequences or a known range.\n",
        "\"while\" loops are better for open-ended conditions where the number of iterations is uncertain.\n",
        "\n",
        "Q14. Describe a scenario where a while loop is more suitable than a for loop.\n",
        "\n",
        "Ans. A \"while\" loop is more suitable than a \"for\" loop when the number of iterations is not known in advance and depends on a condition being met. This typically occurs in scenarios involving user input, dynamic conditions, or real-time monitoring.Imagine you're writing a program that asks a user to input a password and keeps prompting them until they provide the correct one."
      ],
      "metadata": {
        "id": "LepPmyD2G5fV"
      }
    },
    {
      "cell_type": "code",
      "source": [
        "#1. Write a Python program to print \"Hello, World!\"\n",
        "print(\"Hello, World!\")"
      ],
      "metadata": {
        "colab": {
          "base_uri": "https://localhost:8080/"
        },
        "id": "rF8U-8qU2qcp",
        "outputId": "84b62d8e-5002-483f-d4ac-942d4a0b4019"
      },
      "execution_count": 2,
      "outputs": [
        {
          "output_type": "stream",
          "name": "stdout",
          "text": [
            "Hello, World!\n"
          ]
        }
      ]
    },
    {
      "cell_type": "code",
      "source": [
        "#2. Write a Python program that displays your name and age.\n",
        "name = input(\"Enter your name:\")\n",
        "age = int(input(\"Enter your age:\"))\n",
        "print(\"Name:\",name)\n",
        "print(\"Age:\",age)"
      ],
      "metadata": {
        "colab": {
          "base_uri": "https://localhost:8080/"
        },
        "id": "-B0ThnQL4xxp",
        "outputId": "adf46819-56a2-45ec-c237-b09112ea37ba"
      },
      "execution_count": 4,
      "outputs": [
        {
          "output_type": "stream",
          "name": "stdout",
          "text": [
            "Enter your name:awais\n",
            "Enter your age:21\n",
            "Name: awais\n",
            "Age: 21\n"
          ]
        }
      ]
    },
    {
      "cell_type": "code",
      "source": [
        "#3. Write code to print all the pre-defined keywords in Python using the keyword library.\n",
        "import keyword\n",
        "print(keyword.kwlist)\n"
      ],
      "metadata": {
        "colab": {
          "base_uri": "https://localhost:8080/"
        },
        "id": "jgwjfarF6DkL",
        "outputId": "ce1f4dd0-9709-4408-fb26-06c08d39a935"
      },
      "execution_count": 5,
      "outputs": [
        {
          "output_type": "stream",
          "name": "stdout",
          "text": [
            "['False', 'None', 'True', 'and', 'as', 'assert', 'async', 'await', 'break', 'class', 'continue', 'def', 'del', 'elif', 'else', 'except', 'finally', 'for', 'from', 'global', 'if', 'import', 'in', 'is', 'lambda', 'nonlocal', 'not', 'or', 'pass', 'raise', 'return', 'try', 'while', 'with', 'yield']\n"
          ]
        }
      ]
    },
    {
      "cell_type": "code",
      "source": [
        "#4. Write a program that checks if a given word is a Python keyword.\n",
        "import keyword\n",
        "word = input(\"Enter a word:\")\n",
        "if keyword.iskeyword(word):\n",
        "    print(f\"{word} is a Python keyword.\")\n",
        "else:\n",
        "    print(f\"{word} is not a Python keyword.\")"
      ],
      "metadata": {
        "colab": {
          "base_uri": "https://localhost:8080/"
        },
        "id": "E6v_vrw97Afg",
        "outputId": "3a30be90-aeab-4b54-adbb-7b0faddf6a0f"
      },
      "execution_count": 7,
      "outputs": [
        {
          "output_type": "stream",
          "name": "stdout",
          "text": [
            "Enter a word:and\n",
            "and is a Python keyword.\n"
          ]
        }
      ]
    },
    {
      "cell_type": "code",
      "source": [
        "# 5. Create a list and tuple in Python, and demonstrate how attempting to change an element works differently for each.\n",
        "my_list = [1, 2, 3, 4, 5]\n",
        "my_tuple = (1, 2, 3, 4, 5)\n",
        "\n",
        "print(\"Original List:\", my_list)\n",
        "my_list[2] = 100\n",
        "print(\"Modified List:\", my_list)\n",
        "\n",
        "print(\"Original Tuple:\", my_tuple)\n",
        "try:\n",
        "    my_tuple[2] = 100\n",
        "except TypeError as e:\n",
        "    print(f\"Error while modifying tuple: {e}\")\n"
      ],
      "metadata": {
        "colab": {
          "base_uri": "https://localhost:8080/"
        },
        "id": "zkkyaz0A7XEl",
        "outputId": "f8c90d0b-5b49-4011-9918-242e936f9a05"
      },
      "execution_count": 8,
      "outputs": [
        {
          "output_type": "stream",
          "name": "stdout",
          "text": [
            "Original List: [1, 2, 3, 4, 5]\n",
            "Modified List: [1, 2, 100, 4, 5]\n",
            "Original Tuple: (1, 2, 3, 4, 5)\n",
            "Error while modifying tuple: 'tuple' object does not support item assignment\n"
          ]
        }
      ]
    },
    {
      "cell_type": "code",
      "source": [
        "#6. Write a function to demonstrate the behavior of mutable and immutable arguments.\n",
        "\n",
        "def modify_arguments(immutable_arg, mutable_arg):\n",
        "    immutable_arg = immutable_arg + 1\n",
        "    mutable_arg.append(4)\n",
        "\n",
        "    print(\"Inside function:\")\n",
        "    print(f\"Immutable Argument: {immutable_arg}\")\n",
        "    print(f\"Mutable Argument: {mutable_arg}\")\n",
        "\n",
        "immutable_val = 10\n",
        "mutable_val = [1, 2, 3]\n",
        "\n",
        "print(\"Before function call:\")\n",
        "print(f\"Immutable Value: {immutable_val}\")\n",
        "print(f\"Mutable Value: {mutable_val}\")\n",
        "\n",
        "modify_arguments(immutable_val, mutable_val)\n",
        "\n",
        "print(\"After function call:\")\n",
        "print(f\"Immutable Value: {immutable_val}\")\n",
        "print(f\"Mutable Value: {mutable_val}\")"
      ],
      "metadata": {
        "colab": {
          "base_uri": "https://localhost:8080/"
        },
        "id": "C-XcthmZ8Vep",
        "outputId": "4a8c494d-5bb9-4a43-a8a2-fcf9397dd247"
      },
      "execution_count": 9,
      "outputs": [
        {
          "output_type": "stream",
          "name": "stdout",
          "text": [
            "Before function call:\n",
            "Immutable Value: 10\n",
            "Mutable Value: [1, 2, 3]\n",
            "Inside function:\n",
            "Immutable Argument: 11\n",
            "Mutable Argument: [1, 2, 3, 4]\n",
            "After function call:\n",
            "Immutable Value: 10\n",
            "Mutable Value: [1, 2, 3, 4]\n"
          ]
        }
      ]
    },
    {
      "cell_type": "code",
      "source": [
        "#7.  Write a function to demonstrate the behavior of mutable and immutable arguments.\n",
        "\n",
        "def modify_arguments(immutable_arg, mutable_arg):\n",
        "    immutable_arg = immutable_arg + 1\n",
        "    mutable_arg.append(4)\n",
        "\n",
        "    print(\"Inside function:\")\n",
        "    print(f\"Immutable Argument: {immutable_arg}\")\n",
        "    print(f\"Mutable Argument: {mutable_arg}\")\n",
        "\n",
        "immutable_val = 10\n",
        "mutable_val = [1, 2, 3]\n",
        "\n",
        "print(\"Before function call:\")\n",
        "print(f\"Immutable Value: {immutable_val}\")\n",
        "print(f\"Mutable Value: {mutable_val}\")\n",
        "\n",
        "modify_arguments(immutable_val, mutable_val)\n",
        "\n",
        "print(\"After function call:\")\n",
        "print(f\"Immutable Value: {immutable_val}\")\n",
        "print(f\"Mutable Value: {mutable_val}\")"
      ],
      "metadata": {
        "id": "cbUynL6A-FRG"
      },
      "execution_count": null,
      "outputs": []
    },
    {
      "cell_type": "code",
      "source": [
        "#8. Write a program to demonstrate the use of logical operators.\n",
        "\n",
        "age = 20\n",
        "is_student = False\n",
        "has_ticket = True\n",
        "\n",
        "if age >= 18 and has_ticket:\n",
        "    print(\"You can enter the concert.\")\n",
        "else:\n",
        "    print(\"You cannot enter the concert.\")\n",
        "\n",
        "if age >= 18 or is_student:\n",
        "    print(\"You qualify for a discount.\")\n",
        "else:\n",
        "    print(\"You do not qualify for a discount.\")\n",
        "\n",
        "if not is_student:\n",
        "    print(\"You are not a student.\")\n",
        "else:\n",
        "    print(\"You are a student.\")\n",
        "\n"
      ],
      "metadata": {
        "colab": {
          "base_uri": "https://localhost:8080/"
        },
        "id": "jAEgopa8-cxv",
        "outputId": "927c4826-878a-4549-d8c2-a5fa10a2adc4"
      },
      "execution_count": 11,
      "outputs": [
        {
          "output_type": "stream",
          "name": "stdout",
          "text": [
            "You can enter the concert.\n",
            "You qualify for a discount.\n",
            "You are not a student.\n"
          ]
        }
      ]
    },
    {
      "cell_type": "code",
      "source": [
        "#9. Write a Python program to convert user input from string to integer, float, and boolean types\n",
        "\n",
        "user_input = input(\"Enter a value: \")\n",
        "\n",
        "# Convert to integer\n",
        "try:\n",
        "    int_value = int(user_input)\n",
        "    print(f\"Converted to Integer: {int_value}\")\n",
        "except ValueError:\n",
        "    print(\"The input cannot be converted to an integer.\")\n",
        "\n",
        "# Convert to float\n",
        "try:\n",
        "    float_value = float(user_input)\n",
        "    print(f\"Converted to Float: {float_value}\")\n",
        "except ValueError:\n",
        "    print(\"The input cannot be converted to a float.\")\n",
        "\n",
        "# Convert to boolean\n",
        "# An empty string or '0' is considered False, and anything else is considered True\n",
        "boolean_value = bool(user_input)\n",
        "print(f\"Converted to Boolean: {boolean_value}\")\n"
      ],
      "metadata": {
        "colab": {
          "base_uri": "https://localhost:8080/"
        },
        "id": "iMPqfOQz_etd",
        "outputId": "76197df7-5110-45db-b3c8-d477e28633f4"
      },
      "execution_count": 13,
      "outputs": [
        {
          "output_type": "stream",
          "name": "stdout",
          "text": [
            "Enter a value: 14\n",
            "Converted to Integer: 14\n",
            "Converted to Float: 14.0\n",
            "Converted to Boolean: True\n"
          ]
        }
      ]
    },
    {
      "cell_type": "code",
      "source": [
        "#10. Write code to demonstrate type casting with list elements.\n",
        "my_list = ['12', '3.14', 'True', 'False']\n",
        "\n",
        "# Cast to integer\n",
        "integer_value = int(my_list[0])\n",
        "print(f\"Integer Value: {integer_value}, Type: {type(integer_value)}\")\n",
        "\n",
        "# Cast to float\n",
        "float_value = float(my_list[1])\n",
        "print(f\"Float Value: {float_value}, Type: {type(float_value)}\")\n",
        "\n",
        "# Cast to boolean\n",
        "boolean_value1 = bool(my_list[2])\n",
        "boolean_value2 = bool(my_list[3])\n",
        "print(f\"Boolean Value 1: {boolean_value1}, Type: {type(boolean_value1)}\")\n",
        "print(f\"Boolean Value 2: {boolean_value2}, Type: {type(boolean_value2)}\")"
      ],
      "metadata": {
        "colab": {
          "base_uri": "https://localhost:8080/"
        },
        "id": "JJKMsPsvAiLm",
        "outputId": "31d12d76-d3ae-42f4-c36d-f78983786b6e"
      },
      "execution_count": 14,
      "outputs": [
        {
          "output_type": "stream",
          "name": "stdout",
          "text": [
            "Integer Value: 12, Type: <class 'int'>\n",
            "Float Value: 3.14, Type: <class 'float'>\n",
            "Boolean Value 1: True, Type: <class 'bool'>\n",
            "Boolean Value 2: True, Type: <class 'bool'>\n"
          ]
        }
      ]
    },
    {
      "cell_type": "code",
      "source": [
        "#11. Write a program that checks if a number is positive, negative, or zero.\n",
        "number = float(input(\"Enter a number: \"))\n",
        "\n",
        "if number > 0:\n",
        "    print(\"The number is positive.\")\n",
        "elif number < 0:\n",
        "    print(\"The number is negative.\")\n",
        "else:\n",
        "    print(\"The number is zero.\")\n"
      ],
      "metadata": {
        "colab": {
          "base_uri": "https://localhost:8080/"
        },
        "id": "ugP45skUBMpo",
        "outputId": "7fcb4721-364b-42d5-9845-4c5f2e433f51"
      },
      "execution_count": 15,
      "outputs": [
        {
          "output_type": "stream",
          "name": "stdout",
          "text": [
            "Enter a number: 1.23\n",
            "The number is positive.\n"
          ]
        }
      ]
    },
    {
      "cell_type": "code",
      "source": [
        "#12. Write a for loop to print numbers from 1 to 10.\n",
        "for i in range(1, 11):\n",
        "    print(i)"
      ],
      "metadata": {
        "colab": {
          "base_uri": "https://localhost:8080/"
        },
        "id": "qO7GYZ8ABnrS",
        "outputId": "8544cf55-fa18-4d9b-a64f-b94badbf382c"
      },
      "execution_count": 16,
      "outputs": [
        {
          "output_type": "stream",
          "name": "stdout",
          "text": [
            "1\n",
            "2\n",
            "3\n",
            "4\n",
            "5\n",
            "6\n",
            "7\n",
            "8\n",
            "9\n",
            "10\n"
          ]
        }
      ]
    },
    {
      "cell_type": "code",
      "source": [
        "#13. Write a Python program to find the sum of all even numbers between 1 and 50.\n",
        "total_sum = 0\n",
        "\n",
        "for number in range(2, 51, 2):\n",
        "    total_sum += number\n",
        "\n",
        "print(f\"The sum of even numbers from 1 to 50 is: {total_sum}\")"
      ],
      "metadata": {
        "colab": {
          "base_uri": "https://localhost:8080/"
        },
        "id": "RET6Q9W2FnuT",
        "outputId": "1b133e16-1611-4707-f15f-e1c48076bbb3"
      },
      "execution_count": 17,
      "outputs": [
        {
          "output_type": "stream",
          "name": "stdout",
          "text": [
            "The sum of even numbers from 1 to 50 is: 650\n"
          ]
        }
      ]
    },
    {
      "cell_type": "code",
      "source": [
        "#14. Write a program to reverse a string using a while loop.\n",
        "input_string = input(\"Enter a string: \")\n",
        "\n",
        "reversed_string = \"\"\n",
        "index = len(input_string) - 1\n",
        "\n",
        "while index >= 0:\n",
        "    reversed_string += input_string[index]\n",
        "    index -= 1\n",
        "\n",
        "print(f\"The reversed string is: {reversed_string}\")"
      ],
      "metadata": {
        "colab": {
          "base_uri": "https://localhost:8080/"
        },
        "id": "GG9o6ZKaFxc4",
        "outputId": "99cc91a6-55d8-401f-dd7b-f891e48cba3b"
      },
      "execution_count": 19,
      "outputs": [
        {
          "output_type": "stream",
          "name": "stdout",
          "text": [
            "Enter a string: awais\n",
            "The reversed string is: siawa\n"
          ]
        }
      ]
    },
    {
      "cell_type": "code",
      "source": [
        "#15. 0 Write a Python program to calculate the factorial of a number provided by the user using a while loop.\n",
        "number = int(input(\"Enter a number: \"))\n",
        "\n",
        "factorial = 1\n",
        "current_number = 1\n",
        "\n",
        "while current_number <= number:\n",
        "    factorial *= current_number\n",
        "    current_number += 1\n",
        "\n",
        "print(f\"The factorial of {number} is: {factorial}\")\n"
      ],
      "metadata": {
        "colab": {
          "base_uri": "https://localhost:8080/"
        },
        "id": "9pOk9-kJGLcd",
        "outputId": "a4489f47-22ce-4578-d902-f1ce5fde6df7"
      },
      "execution_count": 20,
      "outputs": [
        {
          "output_type": "stream",
          "name": "stdout",
          "text": [
            "Enter a number: 12\n",
            "The factorial of 12 is: 479001600\n"
          ]
        }
      ]
    }
  ]
}